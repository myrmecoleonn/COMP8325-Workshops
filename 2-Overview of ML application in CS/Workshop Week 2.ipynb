{
 "cells": [
  {
   "cell_type": "markdown",
   "metadata": {},
   "source": [
    "# COMP8325 Week 2 Workshop"
   ]
  },
  {
   "cell_type": "markdown",
   "metadata": {},
   "source": [
    "In Week 2 practical, our goal is to get familiar with the Python libraries we will be using throughout the semester to implement learnt concepts from lectures. "
   ]
  },
  {
   "cell_type": "markdown",
   "metadata": {},
   "source": [
    "## NumPy"
   ]
  },
  {
   "cell_type": "markdown",
   "metadata": {},
   "source": [
    "NumPy is one of the fundamental packages for scientific computing in Python. It\n",
    "contains functionality for multidimensional arrays, high-level mathematical functions\n",
    "such as linear algebra operations and the Fourier transform, and pseudorandom\n",
    "number generators.\n",
    "\n",
    "In Scikit-learn, the NumPy array is the fundamental data structure. Scikit-learn\n",
    "takes in data in the form of NumPy arrays. Any data you’re using will have to be converted\n",
    "to a NumPy array. The core functionality of NumPy is the ndarray class, a\n",
    "multidimensional (n-dimensional) array. All elements of the array must be of the\n",
    "same type. A NumPy array looks like this:"
   ]
  },
  {
   "cell_type": "code",
   "execution_count": 1,
   "metadata": {},
   "outputs": [],
   "source": [
    "import numpy as np\n"
   ]
  },
  {
   "cell_type": "code",
   "execution_count": null,
   "metadata": {},
   "outputs": [],
   "source": [
    "# Create an array\n",
    "x = np.array([[1, 2, 3], [4, 5, 6]])\n",
    "print(\"x:\\n{}\".format(x))"
   ]
  },
  {
   "cell_type": "markdown",
   "metadata": {},
   "source": [
    "NumPy provides many convenience functions for creating matrices/vectors."
   ]
  },
  {
   "cell_type": "code",
   "execution_count": null,
   "metadata": {},
   "outputs": [],
   "source": [
    "# create an array of all zeros\n",
    "a = np.zeros((2,2))\n",
    "print (a)"
   ]
  },
  {
   "cell_type": "code",
   "execution_count": null,
   "metadata": {},
   "outputs": [],
   "source": [
    "# create an array of all ones\n",
    "b = np.ones((1,2))\n",
    "b"
   ]
  },
  {
   "cell_type": "code",
   "execution_count": null,
   "metadata": {},
   "outputs": [],
   "source": [
    "# create a constant array\n",
    "c = np.full((2,2), 7)\n",
    "c"
   ]
  },
  {
   "cell_type": "code",
   "execution_count": null,
   "metadata": {},
   "outputs": [],
   "source": [
    "# create 2x2 identity matrix\n",
    "d = np.eye(2)\n",
    "d"
   ]
  },
  {
   "cell_type": "code",
   "execution_count": null,
   "metadata": {},
   "outputs": [],
   "source": [
    "# create an array filled with random values between 0 and 1.\n",
    "e = np.random.random((2,2))\n",
    "e"
   ]
  },
  {
   "cell_type": "code",
   "execution_count": null,
   "metadata": {},
   "outputs": [],
   "source": [
    "# Creating array with vstack()\n",
    "\n",
    "v1 = np.array([1, 2, 3])\n",
    "v2 = np.array([4, 5, 6])\n",
    "v3 = np.array([7, 8, 9])\n",
    "\n",
    "M = np.vstack([v1, v2, v3])\n",
    "print (M)"
   ]
  },
  {
   "cell_type": "code",
   "execution_count": null,
   "metadata": {},
   "outputs": [],
   "source": [
    "# Create any array with hstack()\n",
    "\n",
    "v1 = np.array([1, 2, 3])\n",
    "v2 = np.array([4, 5, 6])\n",
    "v3 = np.array([7, 8, 9])\n",
    "\n",
    "M = np.hstack([v1, v2, v3])\n",
    "print (M)"
   ]
  },
  {
   "cell_type": "markdown",
   "metadata": {},
   "source": [
    "Numpy for Linear Algebra"
   ]
  },
  {
   "cell_type": "code",
   "execution_count": null,
   "metadata": {},
   "outputs": [],
   "source": [
    "M = np.array([[1, 2, 3],\n",
    "             [4, 5, 6],\n",
    "             [7, 8, 9]])\n",
    "\n",
    "v = np.array([[1],\n",
    "              [2],\n",
    "              [3]])\n",
    "\n",
    "# Addition of two matrices\n",
    "print (v + v)"
   ]
  },
  {
   "cell_type": "code",
   "execution_count": null,
   "metadata": {},
   "outputs": [],
   "source": [
    "# Scalar multipication\n",
    "print (v)\n",
    "\n",
    "print (\"\\n 3 x v: \") \n",
    "print (3*v)"
   ]
  },
  {
   "cell_type": "code",
   "execution_count": null,
   "metadata": {},
   "outputs": [],
   "source": [
    "# Dot Multiplication\n",
    "M = np.array ([[3, 0, 2], \n",
    "              [2, 0, -2], \n",
    "              [0, 1, 1]])\n",
    "\n",
    "v = np.array([[1], \n",
    "              [2], \n",
    "              [3]])\n",
    "print (M.dot(v))"
   ]
  },
  {
   "cell_type": "code",
   "execution_count": null,
   "metadata": {},
   "outputs": [],
   "source": [
    "# Is this right?\n",
    "print (v.dot(M))"
   ]
  },
  {
   "cell_type": "code",
   "execution_count": null,
   "metadata": {},
   "outputs": [],
   "source": [
    "# Can go with Transpose\n",
    "print (v.T.dot(M))"
   ]
  },
  {
   "cell_type": "markdown",
   "metadata": {},
   "source": [
    "## Pandas"
   ]
  },
  {
   "cell_type": "markdown",
   "metadata": {},
   "source": [
    "Pandas is a Python library for data wrangling and analysis. It is built around a data\n",
    "structure called the DataFrame that is modeled after the R DataFrame. Simply put, a\n",
    "Pandas DataFrame is a table, similar to an Excel spreadsheet. Pandas provides a great\n",
    "range of methods to modify and operate on this table; in particular, it allows SQL-like\n",
    "queries and joins of tables. In contrast to NumPy, which requires that all entries in an\n",
    "array be of the same type, Pandas allows each column to have a separate type (for\n",
    "example, integers, dates, floating-point numbers, and strings). "
   ]
  },
  {
   "cell_type": "code",
   "execution_count": 16,
   "metadata": {},
   "outputs": [],
   "source": [
    "import pandas as pd"
   ]
  },
  {
   "cell_type": "code",
   "execution_count": null,
   "metadata": {},
   "outputs": [],
   "source": [
    "# Load the collected dataset. Note that we need to specify the column names and the missing values\n",
    "property_data = pd.read_csv('property-sold-price-hornsby.csv', header=0, na_filter=True, na_values='?')\n",
    "\n",
    "property_data.info()\n",
    "\n",
    "property_data"
   ]
  },
  {
   "cell_type": "code",
   "execution_count": null,
   "metadata": {},
   "outputs": [],
   "source": [
    "# Use the describe() method of DataFrame in Pandas.\n",
    "property_data.describe()"
   ]
  },
  {
   "cell_type": "markdown",
   "metadata": {},
   "source": [
    "Missing value imputation. If your collected dataset has missing values, you need to handle the missing values by imputation. Refer to https://scikit-learn.org/stable/modules/impute.html#impute for details about how to acheive this in Scikit-learn."
   ]
  },
  {
   "cell_type": "code",
   "execution_count": null,
   "metadata": {},
   "outputs": [],
   "source": [
    "# Missing value handling\n",
    "print(\"Before imputating missing values: \")\n",
    "print(property_data.isnull().sum())\n",
    "\n",
    "# Perform imputation\n",
    "property_data[\"# car parking\"].fillna(property_data[\"# car parking\"].median(), inplace=True)\n",
    "property_data[\"Land area (m2)\"].fillna(property_data[\"Land area (m2)\"].mean(), inplace=True)\n",
    "\n",
    "# check for missing values\n",
    "print(\"\\nAfter imputating missing values\")\n",
    "print(property_data.isnull().sum())"
   ]
  },
  {
   "cell_type": "markdown",
   "metadata": {},
   "source": [
    "It can be seen that the property features have different scales. To cater for more machine learning models, we need to scale the features to make each feature can be treated equally. Refer to https://scikit-learn.org/stable/modules/preprocessing.html#standardization-or-mean-removal-and-variance-scaling  for more details about how to achieve feature scaling."
   ]
  },
  {
   "cell_type": "code",
   "execution_count": null,
   "metadata": {},
   "outputs": [],
   "source": [
    "# Use the Min-Max feature scaling to transform the original data\n",
    "from sklearn.preprocessing import MinMaxScaler\n",
    "\n",
    "# Select the numerical attributes\n",
    "attributes=[\"# bedrooms\", \"# bathrooms\", \"# car parking\", \"Land area (m2)\", \"Sold price ($M)\"]\n",
    "scaler =MinMaxScaler()\n",
    "property_data_num = property_data[attributes]\n",
    "property_data_num_scaled=pd.DataFrame(scaler.fit_transform(property_data_num), columns=property_data_num.columns)\n",
    "\n",
    "property_data_num_scaled"
   ]
  },
  {
   "cell_type": "markdown",
   "metadata": {},
   "source": [
    "## Matplotlib"
   ]
  },
  {
   "cell_type": "markdown",
   "metadata": {},
   "source": [
    "Matplotlib is the primary scientific plotting library in Python. It provides functions\n",
    "for making publication-quality visualizations such as line charts, histograms, scatter\n",
    "plots, and so on. Visualizing your data and different aspects of your analysis can give\n",
    "you important insights, and we will be using Matplotlib for all our visualizations.\n",
    "When working inside the Jupyter Notebook, you can show figures directly in the\n",
    "browser by using the Matplotlib notebook and Matplotlib inline commands.\n",
    "We recommend using Matplotlib notebook, which provides an interactive environment."
   ]
  },
  {
   "cell_type": "code",
   "execution_count": 24,
   "metadata": {},
   "outputs": [],
   "source": [
    "import matplotlib.pyplot as plt"
   ]
  },
  {
   "cell_type": "code",
   "execution_count": null,
   "metadata": {},
   "outputs": [],
   "source": [
    "# Plot the property price for each house\n",
    "plt.plot(property_data_num_scaled.index, property_data_num_scaled['Sold price ($M)'], 'r', lw=1)\n",
    "plt.xlabel('Property ID')\n",
    "plt.xticks(np.arange(0, 20, step=1))\n",
    "plt.ylabel('Sold price ($M)')\n",
    "plt.show()"
   ]
  },
  {
   "cell_type": "code",
   "execution_count": null,
   "metadata": {},
   "outputs": [],
   "source": [
    "# Visualize the relationship between two features. What can you see from the figure?\n",
    "plt.scatter(property_data_num_scaled['Land area (m2)'], property_data_num_scaled['Sold price ($M)'])\n",
    "plt.xlabel('Land area (m2)')\n",
    "plt.ylabel('Sold price ($M)')"
   ]
  },
  {
   "cell_type": "markdown",
   "metadata": {},
   "source": [
    "## Tasks"
   ]
  },
  {
   "cell_type": "markdown",
   "metadata": {},
   "source": [
    "1. Use Pandas to load the dataset \"data/Tweets.csv\". Check if missing values exist in the data set. For each of the columns having missing values, do we need to remove the whole column or perform missing value imputation? Justify your answers. If we need to perform imputation, please do that."
   ]
  },
  {
   "cell_type": "code",
   "execution_count": 35,
   "metadata": {},
   "outputs": [],
   "source": [
    "tweets_data = pd.read_csv('tweets.csv', header=0, na_filter=True, na_values='?')\n"
   ]
  },
  {
   "cell_type": "code",
   "execution_count": null,
   "metadata": {},
   "outputs": [],
   "source": [
    "# Write and execute your code here"
   ]
  },
  {
   "cell_type": "markdown",
   "metadata": {},
   "source": [
    "2. Calculate the average \"airline_sentiment_confidence\" for each \"airline\". Plot bar chart to show the average \"airline_sentiment_confidence\" for each \"airline\"."
   ]
  },
  {
   "cell_type": "code",
   "execution_count": null,
   "metadata": {},
   "outputs": [],
   "source": [
    "# Write and execute your code here\n"
   ]
  },
  {
   "cell_type": "markdown",
   "metadata": {},
   "source": [
    "3. Use TF-IDF to transform the \"text\" column into a numerical feature vector. Refer to https://scikit-learn.org/stable/modules/generated/sklearn.feature_extraction.text.TfidfVectorizer.html for the details about how to achieve this in the sklearn module."
   ]
  },
  {
   "cell_type": "code",
   "execution_count": 33,
   "metadata": {},
   "outputs": [],
   "source": [
    "text = tweets_data['text']"
   ]
  },
  {
   "cell_type": "code",
   "execution_count": null,
   "metadata": {},
   "outputs": [],
   "source": [
    "# Write and execute your code here\n"
   ]
  }
 ],
 "metadata": {
  "kernelspec": {
   "display_name": "Python 3",
   "language": "python",
   "name": "python3"
  },
  "language_info": {
   "codemirror_mode": {
    "name": "ipython",
    "version": 3
   },
   "file_extension": ".py",
   "mimetype": "text/x-python",
   "name": "python",
   "nbconvert_exporter": "python",
   "pygments_lexer": "ipython3",
   "version": "3.7.4"
  }
 },
 "nbformat": 4,
 "nbformat_minor": 2
}
