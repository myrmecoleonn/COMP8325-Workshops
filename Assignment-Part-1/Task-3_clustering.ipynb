{
 "cells": [
  {
   "cell_type": "markdown",
   "metadata": {},
   "source": [
    "# Assignment Part-I Task-3"
   ]
  },
  {
   "cell_type": "markdown",
   "metadata": {},
   "source": [
    "Name: Michael Merrick  SID: 44849354"
   ]
  },
  {
   "cell_type": "markdown",
   "metadata": {},
   "source": [
    "**Task-3** Clustering on Landsat Satellite Data (2.5 marks): The data set consists of the multi-spectral values of pixels in 3x3 neighbourhoods in a satellite image, and the label information associated with the central pixel in each neighbourhood. This data set was generated from Landsat Multi-Spectral Scanner image data. To facilitate your data analysis process, we have done sampling and data pre-processing for you. All the features are named as “Feature #”, and the last attribute is the label (each number corresponds to a class). This is a multi-class classification problem.\n",
    "\n",
    "Notes:\n",
    "\n",
    "1). Note that clustering is unsupervised learning and the label information should NOT be used in the training stage. But the label information can be used to test the performance if a metric like ARI (adjusted Rand index) is used for evaluation.\n",
    "\n",
    "2). You need to tune the hyperparameter K for KMeans clustering. Or, you could run the hierarchical agglomerative clustering on a small sample set to select the value for K with the help of dendrogram visualization.\n"
   ]
  },
  {
   "cell_type": "code",
   "execution_count": 1,
   "metadata": {},
   "outputs": [],
   "source": [
    "import math\n",
    "import numpy as np\n",
    "import pandas as pd\n",
    "from matplotlib import pyplot as plt\n",
    "\n",
    "from sklearn.datasets import make_blobs\n",
    "from sklearn.cluster import KMeans\n",
    "from sklearn.metrics import davies_bouldin_score, adjusted_rand_score\n",
    "\n",
    "from sklearn.metrics import pairwise_distances\n",
    "from scipy.spatial.distance import pdist "
   ]
  },
  {
   "cell_type": "code",
   "execution_count": 16,
   "metadata": {},
   "outputs": [
    {
     "data": {
      "text/html": [
       "<div>\n",
       "<style scoped>\n",
       "    .dataframe tbody tr th:only-of-type {\n",
       "        vertical-align: middle;\n",
       "    }\n",
       "\n",
       "    .dataframe tbody tr th {\n",
       "        vertical-align: top;\n",
       "    }\n",
       "\n",
       "    .dataframe thead th {\n",
       "        text-align: right;\n",
       "    }\n",
       "</style>\n",
       "<table border=\"1\" class=\"dataframe\">\n",
       "  <thead>\n",
       "    <tr style=\"text-align: right;\">\n",
       "      <th></th>\n",
       "      <th>Feature 1</th>\n",
       "      <th>Feature 2</th>\n",
       "      <th>Feature 3</th>\n",
       "      <th>Feature 4</th>\n",
       "      <th>Feature 5</th>\n",
       "      <th>Feature 6</th>\n",
       "      <th>Feature 7</th>\n",
       "      <th>Feature 8</th>\n",
       "      <th>Feature 9</th>\n",
       "      <th>Feature 10</th>\n",
       "      <th>...</th>\n",
       "      <th>Feature 28</th>\n",
       "      <th>Feature 29</th>\n",
       "      <th>Feature 30</th>\n",
       "      <th>Feature 31</th>\n",
       "      <th>Feature 32</th>\n",
       "      <th>Feature 33</th>\n",
       "      <th>Feature 34</th>\n",
       "      <th>Feature 35</th>\n",
       "      <th>Feature 36</th>\n",
       "      <th>Label</th>\n",
       "    </tr>\n",
       "  </thead>\n",
       "  <tbody>\n",
       "    <tr>\n",
       "      <th>0</th>\n",
       "      <td>92</td>\n",
       "      <td>115</td>\n",
       "      <td>120</td>\n",
       "      <td>94</td>\n",
       "      <td>84</td>\n",
       "      <td>102</td>\n",
       "      <td>106</td>\n",
       "      <td>79</td>\n",
       "      <td>84</td>\n",
       "      <td>102</td>\n",
       "      <td>...</td>\n",
       "      <td>104</td>\n",
       "      <td>88</td>\n",
       "      <td>121</td>\n",
       "      <td>128</td>\n",
       "      <td>100</td>\n",
       "      <td>84</td>\n",
       "      <td>107</td>\n",
       "      <td>113</td>\n",
       "      <td>87</td>\n",
       "      <td>3</td>\n",
       "    </tr>\n",
       "    <tr>\n",
       "      <th>1</th>\n",
       "      <td>84</td>\n",
       "      <td>102</td>\n",
       "      <td>106</td>\n",
       "      <td>79</td>\n",
       "      <td>84</td>\n",
       "      <td>102</td>\n",
       "      <td>102</td>\n",
       "      <td>83</td>\n",
       "      <td>80</td>\n",
       "      <td>102</td>\n",
       "      <td>...</td>\n",
       "      <td>100</td>\n",
       "      <td>84</td>\n",
       "      <td>107</td>\n",
       "      <td>113</td>\n",
       "      <td>87</td>\n",
       "      <td>84</td>\n",
       "      <td>99</td>\n",
       "      <td>104</td>\n",
       "      <td>79</td>\n",
       "      <td>3</td>\n",
       "    </tr>\n",
       "    <tr>\n",
       "      <th>2</th>\n",
       "      <td>84</td>\n",
       "      <td>102</td>\n",
       "      <td>102</td>\n",
       "      <td>83</td>\n",
       "      <td>80</td>\n",
       "      <td>102</td>\n",
       "      <td>102</td>\n",
       "      <td>79</td>\n",
       "      <td>84</td>\n",
       "      <td>94</td>\n",
       "      <td>...</td>\n",
       "      <td>87</td>\n",
       "      <td>84</td>\n",
       "      <td>99</td>\n",
       "      <td>104</td>\n",
       "      <td>79</td>\n",
       "      <td>84</td>\n",
       "      <td>99</td>\n",
       "      <td>104</td>\n",
       "      <td>79</td>\n",
       "      <td>3</td>\n",
       "    </tr>\n",
       "    <tr>\n",
       "      <th>3</th>\n",
       "      <td>80</td>\n",
       "      <td>102</td>\n",
       "      <td>102</td>\n",
       "      <td>79</td>\n",
       "      <td>84</td>\n",
       "      <td>94</td>\n",
       "      <td>102</td>\n",
       "      <td>79</td>\n",
       "      <td>80</td>\n",
       "      <td>94</td>\n",
       "      <td>...</td>\n",
       "      <td>79</td>\n",
       "      <td>84</td>\n",
       "      <td>99</td>\n",
       "      <td>104</td>\n",
       "      <td>79</td>\n",
       "      <td>84</td>\n",
       "      <td>103</td>\n",
       "      <td>104</td>\n",
       "      <td>79</td>\n",
       "      <td>3</td>\n",
       "    </tr>\n",
       "    <tr>\n",
       "      <th>4</th>\n",
       "      <td>84</td>\n",
       "      <td>94</td>\n",
       "      <td>102</td>\n",
       "      <td>79</td>\n",
       "      <td>80</td>\n",
       "      <td>94</td>\n",
       "      <td>98</td>\n",
       "      <td>76</td>\n",
       "      <td>80</td>\n",
       "      <td>102</td>\n",
       "      <td>...</td>\n",
       "      <td>79</td>\n",
       "      <td>84</td>\n",
       "      <td>103</td>\n",
       "      <td>104</td>\n",
       "      <td>79</td>\n",
       "      <td>79</td>\n",
       "      <td>107</td>\n",
       "      <td>109</td>\n",
       "      <td>87</td>\n",
       "      <td>3</td>\n",
       "    </tr>\n",
       "    <tr>\n",
       "      <th>...</th>\n",
       "      <td>...</td>\n",
       "      <td>...</td>\n",
       "      <td>...</td>\n",
       "      <td>...</td>\n",
       "      <td>...</td>\n",
       "      <td>...</td>\n",
       "      <td>...</td>\n",
       "      <td>...</td>\n",
       "      <td>...</td>\n",
       "      <td>...</td>\n",
       "      <td>...</td>\n",
       "      <td>...</td>\n",
       "      <td>...</td>\n",
       "      <td>...</td>\n",
       "      <td>...</td>\n",
       "      <td>...</td>\n",
       "      <td>...</td>\n",
       "      <td>...</td>\n",
       "      <td>...</td>\n",
       "      <td>...</td>\n",
       "      <td>...</td>\n",
       "    </tr>\n",
       "    <tr>\n",
       "      <th>5995</th>\n",
       "      <td>51</td>\n",
       "      <td>68</td>\n",
       "      <td>85</td>\n",
       "      <td>71</td>\n",
       "      <td>51</td>\n",
       "      <td>75</td>\n",
       "      <td>93</td>\n",
       "      <td>79</td>\n",
       "      <td>55</td>\n",
       "      <td>75</td>\n",
       "      <td>...</td>\n",
       "      <td>79</td>\n",
       "      <td>56</td>\n",
       "      <td>81</td>\n",
       "      <td>97</td>\n",
       "      <td>79</td>\n",
       "      <td>52</td>\n",
       "      <td>73</td>\n",
       "      <td>93</td>\n",
       "      <td>79</td>\n",
       "      <td>1</td>\n",
       "    </tr>\n",
       "    <tr>\n",
       "      <th>5996</th>\n",
       "      <td>55</td>\n",
       "      <td>75</td>\n",
       "      <td>96</td>\n",
       "      <td>79</td>\n",
       "      <td>55</td>\n",
       "      <td>72</td>\n",
       "      <td>93</td>\n",
       "      <td>71</td>\n",
       "      <td>55</td>\n",
       "      <td>72</td>\n",
       "      <td>...</td>\n",
       "      <td>79</td>\n",
       "      <td>52</td>\n",
       "      <td>66</td>\n",
       "      <td>86</td>\n",
       "      <td>72</td>\n",
       "      <td>52</td>\n",
       "      <td>66</td>\n",
       "      <td>82</td>\n",
       "      <td>68</td>\n",
       "      <td>1</td>\n",
       "    </tr>\n",
       "    <tr>\n",
       "      <th>5997</th>\n",
       "      <td>55</td>\n",
       "      <td>72</td>\n",
       "      <td>93</td>\n",
       "      <td>71</td>\n",
       "      <td>55</td>\n",
       "      <td>72</td>\n",
       "      <td>85</td>\n",
       "      <td>75</td>\n",
       "      <td>59</td>\n",
       "      <td>79</td>\n",
       "      <td>...</td>\n",
       "      <td>72</td>\n",
       "      <td>52</td>\n",
       "      <td>66</td>\n",
       "      <td>82</td>\n",
       "      <td>68</td>\n",
       "      <td>56</td>\n",
       "      <td>70</td>\n",
       "      <td>82</td>\n",
       "      <td>72</td>\n",
       "      <td>1</td>\n",
       "    </tr>\n",
       "    <tr>\n",
       "      <th>5998</th>\n",
       "      <td>55</td>\n",
       "      <td>72</td>\n",
       "      <td>85</td>\n",
       "      <td>75</td>\n",
       "      <td>59</td>\n",
       "      <td>79</td>\n",
       "      <td>93</td>\n",
       "      <td>75</td>\n",
       "      <td>59</td>\n",
       "      <td>91</td>\n",
       "      <td>...</td>\n",
       "      <td>68</td>\n",
       "      <td>56</td>\n",
       "      <td>70</td>\n",
       "      <td>82</td>\n",
       "      <td>72</td>\n",
       "      <td>56</td>\n",
       "      <td>84</td>\n",
       "      <td>97</td>\n",
       "      <td>79</td>\n",
       "      <td>1</td>\n",
       "    </tr>\n",
       "    <tr>\n",
       "      <th>5999</th>\n",
       "      <td>59</td>\n",
       "      <td>79</td>\n",
       "      <td>93</td>\n",
       "      <td>75</td>\n",
       "      <td>59</td>\n",
       "      <td>91</td>\n",
       "      <td>104</td>\n",
       "      <td>83</td>\n",
       "      <td>59</td>\n",
       "      <td>87</td>\n",
       "      <td>...</td>\n",
       "      <td>72</td>\n",
       "      <td>56</td>\n",
       "      <td>84</td>\n",
       "      <td>97</td>\n",
       "      <td>79</td>\n",
       "      <td>59</td>\n",
       "      <td>91</td>\n",
       "      <td>101</td>\n",
       "      <td>86</td>\n",
       "      <td>1</td>\n",
       "    </tr>\n",
       "  </tbody>\n",
       "</table>\n",
       "<p>6000 rows × 37 columns</p>\n",
       "</div>"
      ],
      "text/plain": [
       "      Feature 1  Feature 2  Feature 3  Feature 4  Feature 5  Feature 6  \\\n",
       "0            92        115        120         94         84        102   \n",
       "1            84        102        106         79         84        102   \n",
       "2            84        102        102         83         80        102   \n",
       "3            80        102        102         79         84         94   \n",
       "4            84         94        102         79         80         94   \n",
       "...         ...        ...        ...        ...        ...        ...   \n",
       "5995         51         68         85         71         51         75   \n",
       "5996         55         75         96         79         55         72   \n",
       "5997         55         72         93         71         55         72   \n",
       "5998         55         72         85         75         59         79   \n",
       "5999         59         79         93         75         59         91   \n",
       "\n",
       "      Feature 7  Feature 8  Feature 9  Feature 10  ...  Feature 28  \\\n",
       "0           106         79         84         102  ...         104   \n",
       "1           102         83         80         102  ...         100   \n",
       "2           102         79         84          94  ...          87   \n",
       "3           102         79         80          94  ...          79   \n",
       "4            98         76         80         102  ...          79   \n",
       "...         ...        ...        ...         ...  ...         ...   \n",
       "5995         93         79         55          75  ...          79   \n",
       "5996         93         71         55          72  ...          79   \n",
       "5997         85         75         59          79  ...          72   \n",
       "5998         93         75         59          91  ...          68   \n",
       "5999        104         83         59          87  ...          72   \n",
       "\n",
       "      Feature 29  Feature 30  Feature 31  Feature 32  Feature 33  Feature 34  \\\n",
       "0             88         121         128         100          84         107   \n",
       "1             84         107         113          87          84          99   \n",
       "2             84          99         104          79          84          99   \n",
       "3             84          99         104          79          84         103   \n",
       "4             84         103         104          79          79         107   \n",
       "...          ...         ...         ...         ...         ...         ...   \n",
       "5995          56          81          97          79          52          73   \n",
       "5996          52          66          86          72          52          66   \n",
       "5997          52          66          82          68          56          70   \n",
       "5998          56          70          82          72          56          84   \n",
       "5999          56          84          97          79          59          91   \n",
       "\n",
       "      Feature 35  Feature 36  Label  \n",
       "0            113          87      3  \n",
       "1            104          79      3  \n",
       "2            104          79      3  \n",
       "3            104          79      3  \n",
       "4            109          87      3  \n",
       "...          ...         ...    ...  \n",
       "5995          93          79      1  \n",
       "5996          82          68      1  \n",
       "5997          82          72      1  \n",
       "5998          97          79      1  \n",
       "5999         101          86      1  \n",
       "\n",
       "[6000 rows x 37 columns]"
      ]
     },
     "execution_count": 16,
     "metadata": {},
     "output_type": "execute_result"
    }
   ],
   "source": [
    "data=pd.read_csv('data/landsat/landsat.csv')\n",
    "data"
   ]
  },
  {
   "cell_type": "code",
   "execution_count": 17,
   "metadata": {},
   "outputs": [],
   "source": [
    "#Preprocessing already complete, skipping\n",
    "##We can't use label information in the training stage anyway(unsupervised learning)\n",
    "X=data.loc[:, data.columns != 'Label']\n"
   ]
  },
  {
   "cell_type": "code",
   "execution_count": 33,
   "metadata": {},
   "outputs": [
    {
     "data": {
      "image/png": "[encoded data removed]",
      "text/plain": [
       "<Figure size 432x288 with 1 Axes>"
      ]
     },
     "metadata": {
      "needs_background": "light"
     },
     "output_type": "display_data"
    }
   ],
   "source": [
    "## Figuring out the number of clusters that is optimal for the dataset - i.e. as high as \n",
    "distortions = []\n",
    "for i in range(1, 21):\n",
    "    kmeans = KMeans(n_clusters=i, init='k-means++', max_iter=300, random_state=0)\n",
    "    kmeans.fit(X)\n",
    "    distortions.append(kmeans.inertia_)\n",
    "    \n",
    "# Plot the relationship between the distortion and k. Then, we can have the Elbow method to help identify a good value for k.\n",
    "plt.plot(range(1, 21), distortions)\n",
    "plt.title('Elbow Method')\n",
    "plt.xlabel('Number of clusters')\n",
    "plt.ylabel('Overall distortion')\n",
    "plt.show()"
   ]
  },
  {
   "cell_type": "markdown",
   "metadata": {},
   "source": [
    "As can be seen, distortion decreases with the increase of K, but k = 15 is reasonably good"
   ]
  },
  {
   "cell_type": "code",
   "execution_count": 34,
   "metadata": {},
   "outputs": [
    {
     "data": {
      "image/png": "[encoded data removed]",
      "text/plain": [
       "<Figure size 432x288 with 1 Axes>"
      ]
     },
     "metadata": {
      "needs_background": "light"
     },
     "output_type": "display_data"
    }
   ],
   "source": [
    "# Let's evaluate the learned model with other quality criteria\n",
    "y_pred = kmeans.predict(X)\n",
    "# Internal evaluation, davies bouldin score (the lower, the better)\n",
    "db_scores = []\n",
    "db_scores_std = []\n",
    "\n",
    "# External evaluation, adjusted rand index (the higher, the better)\n",
    "ar_scores = []\n",
    "ar_scores_std = []\n",
    "\n",
    "# Inertia (average standardized)\n",
    "inertia = []\n",
    "inertia_std = []\n",
    "\n",
    "for i in range(2, 21):\n",
    "    # Multiple runs for stable indicators\n",
    "    db_scores_tmp = []\n",
    "    ar_scores_tmp = []\n",
    "    inertias_tmp = []\n",
    "    \n",
    "    n_iteration=5\n",
    "    for j in range(0, n_iteration):\n",
    "        kmeans = KMeans(n_clusters=i, init='random', max_iter=300)\n",
    "        kmeans.fit(X)\n",
    "        labels = kmeans.labels_\n",
    "        db_scores_tmp.append(davies_bouldin_score(X, labels))\n",
    "        ar_scores_tmp.append(adjusted_rand_score(labels, y_pred))\n",
    "        inertias_tmp.append(math.sqrt(kmeans.inertia_/X.shape[0]))\n",
    "    \n",
    "    db_scores.append(np.mean(db_scores_tmp))\n",
    "    db_scores_std.append(np.std(db_scores_tmp))\n",
    "    ar_scores.append(np.mean(ar_scores_tmp))\n",
    "    ar_scores_std.append(np.std(ar_scores_tmp))\n",
    "    inertia.append(np.mean(inertias_tmp))\n",
    "    inertia_std.append(np.std(inertias_tmp))\n",
    "\n",
    "# Plot the relationship between the davies bouldin score and k\n",
    "plt.errorbar(range(2, 21), db_scores, yerr=db_scores_std, marker='x', label='DB')\n",
    "plt.errorbar(range(2, 21), ar_scores, yerr=ar_scores_std, marker='o', label='AR')\n",
    "plt.title('Performance evaluation')\n",
    "plt.xlabel('Number of clusters')\n",
    "plt.ylabel('Score')\n",
    "plt.legend(loc='best')\n",
    "plt.show()\n",
    "\n"
   ]
  },
  {
   "cell_type": "code",
   "execution_count": 35,
   "metadata": {},
   "outputs": [
    {
     "data": {
      "image/png": "[encoded data removed]",
      "text/plain": [
       "<Figure size 432x288 with 1 Axes>"
      ]
     },
     "metadata": {
      "needs_background": "light"
     },
     "output_type": "display_data"
    }
   ],
   "source": [
    "## Seperate graph for intertia to increase visibility of DB and AR on other graph\n",
    "\n",
    "plt.errorbar(range(2, 21), inertia, yerr=inertia_std, marker='+', label='inertia')\n",
    "plt.title('Performance evaluation')\n",
    "plt.xlabel('Number of clusters')\n",
    "plt.ylabel('Score')\n",
    "plt.legend(loc='best')\n",
    "plt.show()"
   ]
  },
  {
   "cell_type": "markdown",
   "metadata": {},
   "source": [
    "Davies Bouldin and A Rand scores also scored quite well at 15 clusters."
   ]
  },
  {
   "cell_type": "code",
   "execution_count": 29,
   "metadata": {},
   "outputs": [
    {
     "name": "stdout",
     "output_type": "stream",
     "text": [
      "\n",
      " davies_bouldin_score: 1.358878\n",
      "\n"
     ]
    }
   ],
   "source": [
    "kmeans = KMeans(n_clusters=15, init='k-means++', max_iter=300, random_state=0)\n",
    "kmeans.fit(X)\n",
    "labels = kmeans.labels_\n",
    "scores=davies_bouldin_score(X, labels)\n",
    "print('\\n davies_bouldin_score: %f\\n' % scores)"
   ]
  },
  {
   "cell_type": "code",
   "execution_count": 154,
   "metadata": {},
   "outputs": [
    {
     "data": {
      "image/png": "[encoded data removed]",
      "text/plain": [
       "<Figure size 1080x504 with 1 Axes>"
      ]
     },
     "metadata": {
      "needs_background": "light"
     },
     "output_type": "display_data"
    }
   ],
   "source": [
    "# a dendrogram is appropriate for such high dimensional data\n",
    "\n",
    "dist = pdist(X, 'euclidean')\n",
    "linkage_matrix = linkage(dist, method = 'complete')\n",
    "\n",
    "plt.figure(figsize=(15,7))\n",
    "dendrogram(linkage_matrix)\n",
    "plt.show()"
   ]
  },
  {
   "cell_type": "markdown",
   "metadata": {},
   "source": [
    "The dendrogram displays the data clustering relatively clearly, although it isn't immediately visually obvious that the data is intended to be classified into 7 classes."
   ]
  },
  {
   "cell_type": "code",
   "execution_count": 26,
   "metadata": {},
   "outputs": [
    {
     "name": "stdout",
     "output_type": "stream",
     "text": [
      "\n",
      " After dimension reduction: (6000, 6)\n",
      "\n"
     ]
    },
    {
     "data": {
      "image/png": "[encoded data removed]",
      "text/plain": [
       "<Figure size 432x288 with 1 Axes>"
      ]
     },
     "metadata": {
      "needs_background": "light"
     },
     "output_type": "display_data"
    },
    {
     "data": {
      "image/png": "[encoded data removed]",
      "text/plain": [
       "<Figure size 432x288 with 1 Axes>"
      ]
     },
     "metadata": {
      "needs_background": "light"
     },
     "output_type": "display_data"
    }
   ],
   "source": [
    "# We also have the option of performing a PCA dimension reduction if we'd like to see a scatterplot of a randomly\n",
    "# selected 2d array, with x and y being random dimensions out of our 36 features\n",
    "\n",
    "y = data.Label\n",
    "\n",
    "from sklearn.decomposition import PCA\n",
    "pca = PCA(n_components=int(math.sqrt(X.shape[1])))\n",
    "X_reduced = pca.fit(X).transform(X)\n",
    "\n",
    "print('\\n After dimension reduction: (%d, %d)\\n' % X_reduced.shape)\n",
    "\n",
    "distortions = []\n",
    "for i in range(2, 21):\n",
    "    kmeans = KMeans(n_clusters=i, init='k-means++', max_iter=300, n_init=10, random_state=0)\n",
    "    kmeans.fit(X_reduced)\n",
    "    labels = kmeans.labels_\n",
    "    distortions.append(davies_bouldin_score(X_reduced, labels))\n",
    "    \n",
    "# Plot the relationship between the distortion and k\n",
    "plt.plot(range(2, 21), distortions)\n",
    "plt.title('Elbow Method')\n",
    "plt.xlabel('Number of clusters')\n",
    "plt.ylabel('DB scores')\n",
    "plt.show()\n",
    "\n",
    "# Visualize the data with randomly chosen 2 dimensions\n",
    "index_2d=np.random.choice(X_reduced.shape[1], 2, replace=False)\n",
    "sampled_index = np.random.choice(X_reduced.shape[0], int(0.1*X_reduced.shape[0]), replace=False)\n",
    "X_sampled = X_reduced[sampled_index]\n",
    "y_sampled = y[sampled_index]\n",
    "for i in [1, -1]:\n",
    "    plt.scatter(X_sampled[y_sampled == i, index_2d[0]], X_sampled[y_sampled == i, index_2d[1]])\n",
    "plt.xlabel('Dimenion %d' % index_2d[0])\n",
    "plt.ylabel('Dimenion %d' % index_2d[1])\n",
    "plt.show()"
   ]
  },
  {
   "cell_type": "markdown",
   "metadata": {},
   "source": [
    "Interestingly enough, the DB scores after dimensional reduction is performed respond well to an increase in clusters, probably due to the relative density of data benefitting from the increase in categories"
   ]
  }
 ],
 "metadata": {
  "kernelspec": {
   "display_name": "Python 3 (ipykernel)",
   "language": "python",
   "name": "python3"
  },
  "language_info": {
   "codemirror_mode": {
    "name": "ipython",
    "version": 3
   },
   "file_extension": ".py",
   "mimetype": "text/x-python",
   "name": "python",
   "nbconvert_exporter": "python",
   "pygments_lexer": "ipython3",
   "version": "3.10.2"
  }
 },
 "nbformat": 4,
 "nbformat_minor": 2
}
