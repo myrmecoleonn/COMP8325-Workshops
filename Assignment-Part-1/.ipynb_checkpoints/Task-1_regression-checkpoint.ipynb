{
 "cells": [
  {
   "cell_type": "markdown",
   "metadata": {},
   "source": [
    "# Assignment Part-I Task-1"
   ]
  },
  {
   "cell_type": "markdown",
   "metadata": {},
   "source": [
    "Name: Michael Merrick  SID: 44849354"
   ]
  },
  {
   "cell_type": "markdown",
   "metadata": {},
   "source": [
    "**Task-1** Regression on Power Consumption Time Series (3 marks): The time series dataset consists of samples about the weather factors and the power consumption of City A in 2017 (for assignment purpose, some specific information is hidden). Every ten minutes, the weather information including Temperature, Humidity, and Wind Speed is recorded together with the power consumption. You are required to train a regression prediction model for the next day’s power consumption prediction based on the historical records of the past week (7 days).\n",
    "\n",
    "Notes:\n",
    "\n",
    "1). The data set has not be pre-processed, and you might need to consider pre-processing issues like missing value imputation and standardization before training the model.\n",
    "\n",
    "2). Please note that while the goal is to build the model for predicting daily power consumption, the data is sampled every ten minutes.\n",
    "\n",
    "3). So, you should perform basic feature extraction for time series by the sliding window technique. This is a very important step for the success of the built model. Let W be the window size. If the task is to predict the power consumption at time stamp (i.e., day) t, you could construct features with the historical data at time stamps from t-W to t-1. Data instances after the feature extraction can be regarded as independent of each other. Also, it is also noted that the data set is a multi-dimensional time series. \n",
    "\n",
    "4). With obtained feature vectors, a linear regression model can be trained for prediction.\n"
   ]
  },
  {
   "cell_type": "code",
   "execution_count": 2,
   "metadata": {},
   "outputs": [],
   "source": [
    "import numpy as np\n",
    "import pandas as pd"
   ]
  },
  {
   "cell_type": "code",
   "execution_count": 3,
   "metadata": {},
   "outputs": [
    {
     "data": {
      "text/html": [
       "<div>\n",
       "<style scoped>\n",
       "    .dataframe tbody tr th:only-of-type {\n",
       "        vertical-align: middle;\n",
       "    }\n",
       "\n",
       "    .dataframe tbody tr th {\n",
       "        vertical-align: top;\n",
       "    }\n",
       "\n",
       "    .dataframe thead th {\n",
       "        text-align: right;\n",
       "    }\n",
       "</style>\n",
       "<table border=\"1\" class=\"dataframe\">\n",
       "  <thead>\n",
       "    <tr style=\"text-align: right;\">\n",
       "      <th></th>\n",
       "      <th>DateTime</th>\n",
       "      <th>Temperature</th>\n",
       "      <th>Humidity</th>\n",
       "      <th>Wind Speed</th>\n",
       "      <th>Power Consumption</th>\n",
       "    </tr>\n",
       "  </thead>\n",
       "  <tbody>\n",
       "    <tr>\n",
       "      <th>0</th>\n",
       "      <td>1/1/17 0:00</td>\n",
       "      <td>6.559</td>\n",
       "      <td>73.8</td>\n",
       "      <td>0.083</td>\n",
       "      <td>34055.69620</td>\n",
       "    </tr>\n",
       "    <tr>\n",
       "      <th>1</th>\n",
       "      <td>1/1/17 0:10</td>\n",
       "      <td>6.414</td>\n",
       "      <td>74.5</td>\n",
       "      <td>0.083</td>\n",
       "      <td>29814.68354</td>\n",
       "    </tr>\n",
       "    <tr>\n",
       "      <th>2</th>\n",
       "      <td>1/1/17 0:20</td>\n",
       "      <td>6.313</td>\n",
       "      <td>74.5</td>\n",
       "      <td>0.080</td>\n",
       "      <td>29128.10127</td>\n",
       "    </tr>\n",
       "    <tr>\n",
       "      <th>3</th>\n",
       "      <td>1/1/17 0:30</td>\n",
       "      <td>6.121</td>\n",
       "      <td>75.0</td>\n",
       "      <td>0.083</td>\n",
       "      <td>28228.86076</td>\n",
       "    </tr>\n",
       "    <tr>\n",
       "      <th>4</th>\n",
       "      <td>1/1/17 0:40</td>\n",
       "      <td>5.921</td>\n",
       "      <td>75.7</td>\n",
       "      <td>0.081</td>\n",
       "      <td>27335.69620</td>\n",
       "    </tr>\n",
       "    <tr>\n",
       "      <th>...</th>\n",
       "      <td>...</td>\n",
       "      <td>...</td>\n",
       "      <td>...</td>\n",
       "      <td>...</td>\n",
       "      <td>...</td>\n",
       "    </tr>\n",
       "    <tr>\n",
       "      <th>52411</th>\n",
       "      <td>12/30/2017 23:10</td>\n",
       "      <td>7.010</td>\n",
       "      <td>72.4</td>\n",
       "      <td>0.080</td>\n",
       "      <td>31160.45627</td>\n",
       "    </tr>\n",
       "    <tr>\n",
       "      <th>52412</th>\n",
       "      <td>12/30/2017 23:20</td>\n",
       "      <td>6.947</td>\n",
       "      <td>72.6</td>\n",
       "      <td>0.082</td>\n",
       "      <td>30430.41825</td>\n",
       "    </tr>\n",
       "    <tr>\n",
       "      <th>52413</th>\n",
       "      <td>12/30/2017 23:30</td>\n",
       "      <td>6.900</td>\n",
       "      <td>72.8</td>\n",
       "      <td>0.086</td>\n",
       "      <td>29590.87452</td>\n",
       "    </tr>\n",
       "    <tr>\n",
       "      <th>52414</th>\n",
       "      <td>12/30/2017 23:40</td>\n",
       "      <td>6.758</td>\n",
       "      <td>73.0</td>\n",
       "      <td>0.080</td>\n",
       "      <td>28958.17490</td>\n",
       "    </tr>\n",
       "    <tr>\n",
       "      <th>52415</th>\n",
       "      <td>12/30/2017 23:50</td>\n",
       "      <td>6.580</td>\n",
       "      <td>74.1</td>\n",
       "      <td>0.081</td>\n",
       "      <td>28349.80989</td>\n",
       "    </tr>\n",
       "  </tbody>\n",
       "</table>\n",
       "<p>52416 rows × 5 columns</p>\n",
       "</div>"
      ],
      "text/plain": [
       "               DateTime  Temperature  Humidity  Wind Speed  Power Consumption\n",
       "0           1/1/17 0:00        6.559      73.8       0.083        34055.69620\n",
       "1           1/1/17 0:10        6.414      74.5       0.083        29814.68354\n",
       "2           1/1/17 0:20        6.313      74.5       0.080        29128.10127\n",
       "3           1/1/17 0:30        6.121      75.0       0.083        28228.86076\n",
       "4           1/1/17 0:40        5.921      75.7       0.081        27335.69620\n",
       "...                 ...          ...       ...         ...                ...\n",
       "52411  12/30/2017 23:10        7.010      72.4       0.080        31160.45627\n",
       "52412  12/30/2017 23:20        6.947      72.6       0.082        30430.41825\n",
       "52413  12/30/2017 23:30        6.900      72.8       0.086        29590.87452\n",
       "52414  12/30/2017 23:40        6.758      73.0       0.080        28958.17490\n",
       "52415  12/30/2017 23:50        6.580      74.1       0.081        28349.80989\n",
       "\n",
       "[52416 rows x 5 columns]"
      ]
     },
     "execution_count": 3,
     "metadata": {},
     "output_type": "execute_result"
    }
   ],
   "source": [
    "data=pd.read_csv('data/power-consumption/power-consumption.csv')\n",
    "data"
   ]
  },
  {
   "cell_type": "code",
   "execution_count": 10,
   "metadata": {},
   "outputs": [
    {
     "name": "stdout",
     "output_type": "stream",
     "text": [
      "Temperature          0\n",
      "Humidity             0\n",
      "Wind Speed           0\n",
      "Power Consumption    0\n",
      "dtype: int64\n"
     ]
    }
   ],
   "source": [
    "##Pre-processing\n",
    "\n",
    "## turning data into a rolling average of the last 24 hours\n",
    "data=data.rolling(window=144).mean()\n",
    "# This leaves 144 entries blank(since they're not able to average 144 entries before them, so it's \n",
    "# easier to remove those at the cost of some data)\n",
    "data=data.dropna()\n",
    "print(data.isnull().sum())\n",
    "# no null values, good"
   ]
  },
  {
   "cell_type": "code",
   "execution_count": 11,
   "metadata": {},
   "outputs": [
    {
     "name": "stdout",
     "output_type": "stream",
     "text": [
      "training data feature shape: (41589, 3)\n",
      "training data label shape: (41589,)\n",
      "test data feature space shape: (10398, 3)\n",
      "test data label shape: (10398,)\n",
      "coefficient: [ 3.57354361e+02 -2.55910013e-01  8.92756813e+01]\n",
      "intercept: 25482.088157587037\n",
      "y pred:  [30760.11180713 33439.27869828 32615.08435079 ... 30720.42486743\n",
      " 34687.59129258 33022.35175096]\n",
      "Mean squared error: 2895530.79\n",
      "Coefficient of determination: 0.58\n"
     ]
    }
   ],
   "source": [
    "from sklearn import model_selection as ms\n",
    "from sklearn import linear_model as lm\n",
    "from sklearn.metrics import mean_squared_error, r2_score\n",
    "\n",
    "X = data[['Temperature', 'Humidity', 'Wind Speed']].values\n",
    "y = data['Power Consumption'].values\n",
    "X_train, X_test, y_train, y_test = ms.train_test_split(X, y, test_size=0.2)\n",
    "\n",
    "print(\"training data feature shape:\", X_train.shape)\n",
    "print(\"training data label shape:\", y_train.shape)\n",
    "\n",
    "print(\"test data feature space shape:\", X_test.shape)\n",
    "print(\"test data label shape:\", y_test.shape)\n",
    "\n",
    "\n",
    "ordinaryLRmodel = lm.LinearRegression()\n",
    "ordinaryLRmodel.fit(X_train, y_train)\n",
    "print(\"coefficient:\", ordinaryLRmodel.coef_)\n",
    "print(\"intercept:\", ordinaryLRmodel.intercept_)\n",
    "\n",
    "y_pred = ordinaryLRmodel.predict(X_test)\n",
    "print(\"y pred: \",y_pred)\n",
    "print('Mean squared error: %.2f' %mean_squared_error(y_test, y_pred))\n",
    "print('Coefficient of determination: %.2f' %r2_score(y_test, y_pred))"
   ]
  },
  {
   "cell_type": "markdown",
   "metadata": {},
   "source": [
    "This model is only slightly better than random chance, unfortunately, but I couldn't quite figure out how to create features for t-W to t-1 and utilise those instead. Rolling definitely improved the accuracy of prediction, however."
   ]
  },
  {
   "cell_type": "code",
   "execution_count": null,
   "metadata": {},
   "outputs": [],
   "source": []
  }
 ],
 "metadata": {
  "kernelspec": {
   "display_name": "Python 3 (ipykernel)",
   "language": "python",
   "name": "python3"
  },
  "language_info": {
   "codemirror_mode": {
    "name": "ipython",
    "version": 3
   },
   "file_extension": ".py",
   "mimetype": "text/x-python",
   "name": "python",
   "nbconvert_exporter": "python",
   "pygments_lexer": "ipython3",
   "version": "3.10.2"
  }
 },
 "nbformat": 4,
 "nbformat_minor": 2
}
